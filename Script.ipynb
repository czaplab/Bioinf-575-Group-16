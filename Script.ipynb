{
 "cells": [
  {
   "cell_type": "markdown",
   "id": "a65b1748-6dd2-4ea3-b355-02facabfd429",
   "metadata": {},
   "source": [
    "KEGG pathways overlap"
   ]
  },
  {
   "cell_type": "code",
   "execution_count": 7,
   "id": "ade89c7a-4303-4d57-9713-aef284ecf61f",
   "metadata": {},
   "outputs": [],
   "source": [
    "#Part 1: Map/merge the information by PATHWAY_ID and GENE_ID."
   ]
  },
  {
   "cell_type": "code",
   "execution_count": 33,
   "id": "77e8128f-7006-4f82-b255-e64ff282fc28",
   "metadata": {},
   "outputs": [
    {
     "name": "stdout",
     "output_type": "stream",
     "text": [
      "     GENE_ID     PATHWAY_ID\n",
      "0  hsa:10327  path:hsa00010\n",
      "1    hsa:124  path:hsa00010\n",
      "2    hsa:125  path:hsa00010\n",
      "3    hsa:126  path:hsa00010\n",
      "4    hsa:127  path:hsa00010   PATHWAY_ID                                       PATHWAY_NAME\n",
      "0   hsa01100          Metabolic pathways - Homo sapiens (human)\n",
      "1   hsa01200           Carbon metabolism - Homo sapiens (human)\n",
      "2   hsa01210  2-Oxocarboxylic acid metabolism - Homo sapiens...\n",
      "3   hsa01212       Fatty acid metabolism - Homo sapiens (human)\n",
      "4   hsa01230  Biosynthesis of amino acids - Homo sapiens (hu...\n"
     ]
    }
   ],
   "source": [
    "import pandas as pd\n",
    "\n",
    "#file names\n",
    "gene_file = \"gene.txt\"\n",
    "human_file = \"human.txt\"\n",
    "\n",
    "#load in files\n",
    "gene_data = pd.read_csv(gene_file, sep=\"\\t\", header=None, names=[\"GENE_ID\", \"PATHWAY_ID\"])\n",
    "human_data = pd.read_csv(human_file, sep=\"\\t\", header=None, names=[\"PATHWAY_ID\", \"PATHWAY_NAME\"])\n",
    "print(gene_data.head(), human_data.head())\n"
   ]
  },
  {
   "cell_type": "code",
   "execution_count": 39,
   "id": "ff3543b5-ddc2-4ea7-b60d-b8a6c3161a0e",
   "metadata": {},
   "outputs": [
    {
     "name": "stdout",
     "output_type": "stream",
     "text": [
      "     GENE_ID PATHWAY_ID                                       PATHWAY_NAME\n",
      "0  hsa:10327   hsa00010  Glycolysis / Gluconeogenesis - Homo sapiens (h...\n",
      "1    hsa:124   hsa00010  Glycolysis / Gluconeogenesis - Homo sapiens (h...\n",
      "2    hsa:125   hsa00010  Glycolysis / Gluconeogenesis - Homo sapiens (h...\n",
      "3    hsa:126   hsa00010  Glycolysis / Gluconeogenesis - Homo sapiens (h...\n",
      "4    hsa:127   hsa00010  Glycolysis / Gluconeogenesis - Homo sapiens (h...\n",
      "Number of rows: 37470\n",
      "Number of columns: 3\n"
     ]
    }
   ],
   "source": [
    "#remove 'path:' from gene_data\n",
    "gene_data[\"PATHWAY_ID\"] = gene_data[\"PATHWAY_ID\"].str.replace(\"path:\", \"\")\n",
    "\n",
    "#Merge\n",
    "merged_data = pd.merge(gene_data, human_data, on=\"PATHWAY_ID\", how=\"inner\")\n",
    "print(merged_data.head())\n",
    "\n",
    "rows, columns = merged_data.shape\n",
    "\n",
    "print(\"Number of rows:\", rows)\n",
    "print(\"Number of columns:\", columns)"
   ]
  },
  {
   "cell_type": "code",
   "execution_count": 54,
   "id": "1f78b294-2845-4cd9-a9ec-5f54cf982253",
   "metadata": {},
   "outputs": [
    {
     "name": "stdout",
     "output_type": "stream",
     "text": [
      "      PATHWAY_ID1                                      PATHWAY_NAME1  \\\n",
      "19381    hsa05010           Alzheimer disease - Homo sapiens (human)   \n",
      "19522    hsa05014  Amyotrophic lateral sclerosis - Homo sapiens (...   \n",
      "19597    hsa05016          Huntington disease - Homo sapiens (human)   \n",
      "19460    hsa05012           Parkinson disease - Homo sapiens (human)   \n",
      "19519    hsa05014  Amyotrophic lateral sclerosis - Homo sapiens (...   \n",
      "\n",
      "      PATHWAY_ID2                                      PATHWAY_NAME2  \\\n",
      "19381    hsa05022  Pathways of neurodegeneration - multiple disea...   \n",
      "19522    hsa05022  Pathways of neurodegeneration - multiple disea...   \n",
      "19597    hsa05022  Pathways of neurodegeneration - multiple disea...   \n",
      "19460    hsa05022  Pathways of neurodegeneration - multiple disea...   \n",
      "19519    hsa05016          Huntington disease - Homo sapiens (human)   \n",
      "\n",
      "       NUMBER_OF_OVERLAPPING_GENES  \\\n",
      "19381                          339   \n",
      "19522                          300   \n",
      "19597                          256   \n",
      "19460                          233   \n",
      "19519                          229   \n",
      "\n",
      "                               LIST_OF_OVERLAPPING_GENES  \n",
      "19381  hsa:10023;hsa:100506742;hsa:100532726;hsa:1010...  \n",
      "19522  hsa:10010;hsa:100506742;hsa:100532726;hsa:1012...  \n",
      "19597  hsa:100532726;hsa:10105;hsa:10120;hsa:10121;hs...  \n",
      "19460  hsa:100532726;hsa:10105;hsa:10131;hsa:10213;hs...  \n",
      "19519  hsa:100532726;hsa:10120;hsa:10121;hsa:10126;hs...  \n"
     ]
    }
   ],
   "source": [
    "#Part 2/3:Compute the number of overlapping genes between every 2 pathways & Save as KEGG_crosstalk.csv\n",
    "from itertools import combinations\n",
    "pathway_to_genes = (\n",
    "    merged_data.groupby(\"PATHWAY_ID\")[\"GENE_ID\"]\n",
    "    .apply(set) \n",
    "    .to_dict()\n",
    ")\n",
    "\n",
    "#Map Pathway names\n",
    "pathway_to_name = (\n",
    "    merged_data.groupby(\"PATHWAY_ID\")[\"PATHWAY_NAME\"]\n",
    "    .first()\n",
    "    .to_dict()\n",
    ")\n",
    "\n",
    "results = []\n",
    "\n",
    "#Compute Overlaps\n",
    "for (path1, genes1), (path2, genes2) in combinations(pathway_to_genes.items(), 2):\n",
    "    overlap = genes1.intersection(genes2)\n",
    "    if overlap:  # Only include pairs with overlaps\n",
    "        results.append({\n",
    "            \"PATHWAY_ID1\": path1,\n",
    "            \"PATHWAY_NAME1\": pathway_to_name[path1],\n",
    "            \"PATHWAY_ID2\": path2,\n",
    "            \"PATHWAY_NAME2\": pathway_to_name[path2],\n",
    "            \"NUMBER_OF_OVERLAPPING_GENES\": len(overlap),\n",
    "            \"LIST_OF_OVERLAPPING_GENES\": \";\".join(sorted(overlap))\n",
    "        })\n",
    "\n",
    "#turn it into a dataframe\n",
    "results_df = pd.DataFrame(results)\n",
    "\n",
    "#Descending Order\n",
    "results_df = results_df.sort_values(by=\"NUMBER_OF_OVERLAPPING_GENES\", ascending=False)\n",
    "\n",
    "#Save CSV file\n",
    "results_df.to_csv(\"KEGG_crosstalk.csv\", index=False)\n",
    "\n",
    "print(results_df.head())"
   ]
  },
  {
   "cell_type": "code",
   "execution_count": null,
   "id": "b8eebf10-7fa5-42eb-9200-c676303ea6ad",
   "metadata": {},
   "outputs": [],
   "source": []
  }
 ],
 "metadata": {
  "kernelspec": {
   "display_name": "Python 3 (ipykernel)",
   "language": "python",
   "name": "python3"
  },
  "language_info": {
   "codemirror_mode": {
    "name": "ipython",
    "version": 3
   },
   "file_extension": ".py",
   "mimetype": "text/x-python",
   "name": "python",
   "nbconvert_exporter": "python",
   "pygments_lexer": "ipython3",
   "version": "3.12.3"
  }
 },
 "nbformat": 4,
 "nbformat_minor": 5
}
