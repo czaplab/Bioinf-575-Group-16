{
 "cells": [
  {
   "cell_type": "markdown",
   "id": "a65b1748-6dd2-4ea3-b355-02facabfd429",
   "metadata": {},
   "source": [
    "KEGG pathways overlap"
   ]
  },
  {
   "cell_type": "code",
   "execution_count": 7,
   "id": "ade89c7a-4303-4d57-9713-aef284ecf61f",
   "metadata": {},
   "outputs": [],
   "source": [
    "#Part 1: Map/merge the information by PATHWAY_ID and GENE_ID."
   ]
  },
  {
   "cell_type": "code",
   "execution_count": 5,
   "id": "77e8128f-7006-4f82-b255-e64ff282fc28",
   "metadata": {},
   "outputs": [
    {
     "name": "stdout",
     "output_type": "stream",
     "text": [
      "     GENE_ID     PATHWAY_ID\n",
      "0  hsa:10327  path:hsa00010\n",
      "1    hsa:124  path:hsa00010\n",
      "2    hsa:125  path:hsa00010\n",
      "3    hsa:126  path:hsa00010\n",
      "4    hsa:127  path:hsa00010   PATHWAY_ID                                       PATHWAY_NAME\n",
      "0   hsa01100          Metabolic pathways - Homo sapiens (human)\n",
      "1   hsa01200           Carbon metabolism - Homo sapiens (human)\n",
      "2   hsa01210  2-Oxocarboxylic acid metabolism - Homo sapiens...\n",
      "3   hsa01212       Fatty acid metabolism - Homo sapiens (human)\n",
      "4   hsa01230  Biosynthesis of amino acids - Homo sapiens (hu...\n"
     ]
    }
   ],
   "source": [
    "import pandas as pd\n",
    "\n",
    "#file names\n",
    "gene_file = \"gene.txt\"\n",
    "human_file = \"human.txt\"\n",
    "\n",
    "#load in files\n",
    "gene_data = pd.read_csv(gene_file, sep=\"\\t\", header=None, names=[\"GENE_ID\", \"PATHWAY_ID\"])\n",
    "human_data = pd.read_csv(human_file, sep=\"\\t\", header=None, names=[\"PATHWAY_ID\", \"PATHWAY_NAME\"])\n",
    "print(gene_data.head(), human_data.head())\n"
   ]
  },
  {
   "cell_type": "code",
   "execution_count": 7,
   "id": "ff3543b5-ddc2-4ea7-b60d-b8a6c3161a0e",
   "metadata": {},
   "outputs": [
    {
     "name": "stdout",
     "output_type": "stream",
     "text": [
      "     GENE_ID PATHWAY_ID                                       PATHWAY_NAME\n",
      "0  hsa:10327   hsa00010  Glycolysis / Gluconeogenesis - Homo sapiens (h...\n",
      "1    hsa:124   hsa00010  Glycolysis / Gluconeogenesis - Homo sapiens (h...\n",
      "2    hsa:125   hsa00010  Glycolysis / Gluconeogenesis - Homo sapiens (h...\n",
      "3    hsa:126   hsa00010  Glycolysis / Gluconeogenesis - Homo sapiens (h...\n",
      "4    hsa:127   hsa00010  Glycolysis / Gluconeogenesis - Homo sapiens (h...\n",
      "Number of rows: 37470\n",
      "Number of columns: 3\n"
     ]
    }
   ],
   "source": [
    "#remove 'path:' from gene_data\n",
    "gene_data[\"PATHWAY_ID\"] = gene_data[\"PATHWAY_ID\"].str.replace(\"path:\", \"\")\n",
    "\n",
    "#Merge\n",
    "merged_data = pd.merge(gene_data, human_data, on=\"PATHWAY_ID\", how=\"inner\")\n",
    "print(merged_data.head())\n",
    "\n",
    "rows, columns = merged_data.shape\n",
    "\n",
    "print(\"Number of rows:\", rows)\n",
    "print(\"Number of columns:\", columns)"
   ]
  },
  {
   "cell_type": "code",
   "execution_count": 54,
   "id": "1f78b294-2845-4cd9-a9ec-5f54cf982253",
   "metadata": {},
   "outputs": [
    {
     "name": "stdout",
     "output_type": "stream",
     "text": [
      "      PATHWAY_ID1                                      PATHWAY_NAME1  \\\n",
      "19381    hsa05010           Alzheimer disease - Homo sapiens (human)   \n",
      "19522    hsa05014  Amyotrophic lateral sclerosis - Homo sapiens (...   \n",
      "19597    hsa05016          Huntington disease - Homo sapiens (human)   \n",
      "19460    hsa05012           Parkinson disease - Homo sapiens (human)   \n",
      "19519    hsa05014  Amyotrophic lateral sclerosis - Homo sapiens (...   \n",
      "\n",
      "      PATHWAY_ID2                                      PATHWAY_NAME2  \\\n",
      "19381    hsa05022  Pathways of neurodegeneration - multiple disea...   \n",
      "19522    hsa05022  Pathways of neurodegeneration - multiple disea...   \n",
      "19597    hsa05022  Pathways of neurodegeneration - multiple disea...   \n",
      "19460    hsa05022  Pathways of neurodegeneration - multiple disea...   \n",
      "19519    hsa05016          Huntington disease - Homo sapiens (human)   \n",
      "\n",
      "       NUMBER_OF_OVERLAPPING_GENES  \\\n",
      "19381                          339   \n",
      "19522                          300   \n",
      "19597                          256   \n",
      "19460                          233   \n",
      "19519                          229   \n",
      "\n",
      "                               LIST_OF_OVERLAPPING_GENES  \n",
      "19381  hsa:10023;hsa:100506742;hsa:100532726;hsa:1010...  \n",
      "19522  hsa:10010;hsa:100506742;hsa:100532726;hsa:1012...  \n",
      "19597  hsa:100532726;hsa:10105;hsa:10120;hsa:10121;hs...  \n",
      "19460  hsa:100532726;hsa:10105;hsa:10131;hsa:10213;hs...  \n",
      "19519  hsa:100532726;hsa:10120;hsa:10121;hsa:10126;hs...  \n"
     ]
    }
   ],
   "source": [
    "#Part 2/3:Compute the number of overlapping genes between every 2 pathways & Save as KEGG_crosstalk.csv\n",
    "from itertools import combinations\n",
    "pathway_to_genes = (\n",
    "    merged_data.groupby(\"PATHWAY_ID\")[\"GENE_ID\"]\n",
    "    .apply(set) \n",
    "    .to_dict()\n",
    ")\n",
    "\n",
    "#Map Pathway names\n",
    "pathway_to_name = (\n",
    "    merged_data.groupby(\"PATHWAY_ID\")[\"PATHWAY_NAME\"]\n",
    "    .first()\n",
    "    .to_dict()\n",
    ")\n",
    "\n",
    "results = []\n",
    "\n",
    "#Compute Overlaps\n",
    "for (path1, genes1), (path2, genes2) in combinations(pathway_to_genes.items(), 2):\n",
    "    overlap = genes1.intersection(genes2)\n",
    "    if overlap:  # Only include pairs with overlaps\n",
    "        results.append({\n",
    "            \"PATHWAY_ID1\": path1,\n",
    "            \"PATHWAY_NAME1\": pathway_to_name[path1],\n",
    "            \"PATHWAY_ID2\": path2,\n",
    "            \"PATHWAY_NAME2\": pathway_to_name[path2],\n",
    "            \"NUMBER_OF_OVERLAPPING_GENES\": len(overlap),\n",
    "            \"LIST_OF_OVERLAPPING_GENES\": \";\".join(sorted(overlap))\n",
    "        })\n",
    "\n",
    "#turn it into a dataframe\n",
    "results_df = pd.DataFrame(results)\n",
    "\n",
    "#Descending Order\n",
    "results_df = results_df.sort_values(by=\"NUMBER_OF_OVERLAPPING_GENES\", ascending=False)\n",
    "\n",
    "#Save CSV file\n",
    "results_df.to_csv(\"KEGG_crosstalk.csv\", index=False)\n",
    "\n",
    "print(results_df.head())"
   ]
  },
  {
   "cell_type": "code",
   "execution_count": null,
   "id": "b8eebf10-7fa5-42eb-9200-c676303ea6ad",
   "metadata": {},
   "outputs": [],
   "source": [
    "# Part 4 Compute a rank of the genes based on how many pathways they appear on and save it to a file"
   ]
  },
  {
   "cell_type": "code",
   "execution_count": null,
   "id": "ca9f5537-8e76-45e5-93ad-6465303bddde",
   "metadata": {},
   "outputs": [],
   "source": [
    "# Compute gene ranks based on the number of pathways they appear in\n",
    "gene_to_pathways = (\n",
    "    merged_data.groupby(\"GENE_ID\")[\"PATHWAY_ID\"]\n",
    "    .apply(set)\n",
    "    .to_dict()\n",
    ")\n",
    "\n",
    "# Create a DataFrame for gene ranks\n",
    "gene_ranks = [\n",
    "    {\"GENE_ID\": gene, \"NUMBER_OF_PATHWAYS\": len(pathways)}\n",
    "    for gene, pathways in gene_to_pathways.items()\n",
    "]\n",
    "\n",
    "# Convert to DataFrame and sort by NUMBER_OF_PATHWAYS\n",
    "gene_ranks_df = pd.DataFrame(gene_ranks).sort_values(by=\"NUMBER_OF_PATHWAYS\", ascending=False)\n",
    "\n",
    "# Save to a CSV file\n",
    "gene_ranks_df.to_csv(\"KEGG_gene_ranks.csv\", index=False)\n",
    "\n",
    "print(gene_ranks_df.head())"
   ]
  },
  {
   "cell_type": "code",
   "execution_count": null,
   "id": "190f8e30-0500-4b03-8057-19e0a10e8ea1",
   "metadata": {},
   "outputs": [],
   "source": [
    "# 5. Retrieve a set of the pathways the top 3 genes appear on"
   ]
  },
  {
   "cell_type": "code",
   "execution_count": 39,
   "id": "6e28b6bf-7b0e-48cb-a433-1a7fbfbab081",
   "metadata": {},
   "outputs": [
    {
     "data": {
      "text/html": [
       "<div>\n",
       "<style scoped>\n",
       "    .dataframe tbody tr th:only-of-type {\n",
       "        vertical-align: middle;\n",
       "    }\n",
       "\n",
       "    .dataframe tbody tr th {\n",
       "        vertical-align: top;\n",
       "    }\n",
       "\n",
       "    .dataframe thead th {\n",
       "        text-align: right;\n",
       "    }\n",
       "</style>\n",
       "<table border=\"1\" class=\"dataframe\">\n",
       "  <thead>\n",
       "    <tr style=\"text-align: right;\">\n",
       "      <th></th>\n",
       "      <th>GENE_ID</th>\n",
       "      <th>PATHWAY_IDS</th>\n",
       "    </tr>\n",
       "  </thead>\n",
       "  <tbody>\n",
       "    <tr>\n",
       "      <th>0</th>\n",
       "      <td>hsa:5595</td>\n",
       "      <td>{hsa05216, hsa05142, hsa05133, hsa04722, hsa05...</td>\n",
       "    </tr>\n",
       "    <tr>\n",
       "      <th>1</th>\n",
       "      <td>hsa:5594</td>\n",
       "      <td>{hsa05216, hsa05142, hsa05133, hsa04722, hsa05...</td>\n",
       "    </tr>\n",
       "    <tr>\n",
       "      <th>2</th>\n",
       "      <td>hsa:5293</td>\n",
       "      <td>{hsa04211, hsa05142, hsa04722, hsa05220, hsa05...</td>\n",
       "    </tr>\n",
       "  </tbody>\n",
       "</table>\n",
       "</div>"
      ],
      "text/plain": [
       "    GENE_ID                                        PATHWAY_IDS\n",
       "0  hsa:5595  {hsa05216, hsa05142, hsa05133, hsa04722, hsa05...\n",
       "1  hsa:5594  {hsa05216, hsa05142, hsa05133, hsa04722, hsa05...\n",
       "2  hsa:5293  {hsa04211, hsa05142, hsa04722, hsa05220, hsa05..."
      ]
     },
     "execution_count": 39,
     "metadata": {},
     "output_type": "execute_result"
    }
   ],
   "source": [
    "# Create a dictionary mapping PATHWAY_ID to PATHWAY_NAME so that pathway names can be assigned to the IDs\n",
    "pathway_name_dict = merged_data.drop_duplicates(subset=\"PATHWAY_ID\")[[\"PATHWAY_ID\", \"PATHWAY_NAME\"]]\n",
    "pathway_name_dict = pathway_name_dict.set_index(\"PATHWAY_ID\")[\"PATHWAY_NAME\"].to_dict()\n",
    "\n",
    "# Retrieve the pathways these top genes appear in\n",
    "top_genes_pathways_ids = {}  # For storing pathway IDs\n",
    "top_genes_pathways_names = {}  # For storing pathway names\n",
    "\n",
    "for gene in top_genes.index:\n",
    "    pathways = merged_data[merged_data[\"GENE_ID\"] == gene][\"PATHWAY_ID\"].unique()\n",
    "    top_genes_pathways_ids[gene] = set(pathways)\n",
    "    \n",
    "    # Map the pathway IDs to names using pathway_name_dict\n",
    "    pathway_names = [pathway_name_dict.get(pathway_id, \"Unknown pathway\") for pathway_id in pathways]\n",
    "    top_genes_pathways_names[gene] = set(pathway_names)\n",
    "\n",
    "# Create DataFrame for pathway IDs\n",
    "top_genes_pathways_ids_df = pd.DataFrame(list(top_genes_pathways_ids.items()), columns=[\"GENE_ID\", \"PATHWAY_IDS\"])\n",
    "\n",
    "# Create DataFrame for pathway names\n",
    "top_genes_pathways_names_df = pd.DataFrame(list(top_genes_pathways_names.items()), columns=[\"GENE_ID\", \"PATHWAY_NAMES\"])\n",
    "\n",
    "\n"
   ]
  }
 ],
 "metadata": {
  "kernelspec": {
   "display_name": "Python 3 (ipykernel)",
   "language": "python",
   "name": "python3"
  },
  "language_info": {
   "codemirror_mode": {
    "name": "ipython",
    "version": 3
   },
   "file_extension": ".py",
   "mimetype": "text/x-python",
   "name": "python",
   "nbconvert_exporter": "python",
   "pygments_lexer": "ipython3",
   "version": "3.12.2"
  }
 },
 "nbformat": 4,
 "nbformat_minor": 5
}
